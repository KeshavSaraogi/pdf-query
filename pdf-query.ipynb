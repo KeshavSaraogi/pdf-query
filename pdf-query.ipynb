{
 "cells": [
  {
   "cell_type": "code",
   "execution_count": null,
   "metadata": {},
   "outputs": [],
   "source": [
    "!pip install -q cassio datasets langchain openai tiktoken PyPDF2"
   ]
  },
  {
   "cell_type": "code",
   "execution_count": null,
   "metadata": {},
   "outputs": [],
   "source": [
    "import os\n",
    "from dotenv import load_dotenv\n",
    "\n",
    "load_dotenv()"
   ]
  },
  {
   "cell_type": "code",
   "execution_count": null,
   "metadata": {},
   "outputs": [],
   "source": [
    "ASTRA_DB_ID = os.getenv(\"ASTRA_DB_ID\")\n",
    "ASTRA_DB_TOKEN = os.getenv(\"ASTRA_DB_TOKEN\")\n",
    "OPENAI_KEY = os.getenv(\"OPENAI_KEY\")"
   ]
  },
  {
   "cell_type": "code",
   "execution_count": null,
   "metadata": {},
   "outputs": [],
   "source": [
    "import cassio\n",
    "from langchain.vectorstores.cassandra import Cassandra\n",
    "from langchain.indexes.vectorstore import VectorStoreIndexWrapper\n",
    "from langchain.llms import OpenAI\n",
    "from langchain.embeddings import OpenAIEmbeddings\n",
    "from datasets import load_dataset\n",
    "from PyPDF2 import PdfReader\n"
   ]
  },
  {
   "cell_type": "code",
   "execution_count": null,
   "metadata": {},
   "outputs": [],
   "source": [
    "pdfReader = PdfReader('budget_speech.pdf')"
   ]
  },
  {
   "cell_type": "code",
   "execution_count": null,
   "metadata": {},
   "outputs": [],
   "source": [
    "# reading text from the pdf\n",
    "\n",
    "text = ''\n",
    "for index, page in enumerate(pdfReader.pages):\n",
    "    content = page.extract_text()\n",
    "    if content:\n",
    "        text += content\n",
    "\n",
    "text"
   ]
  },
  {
   "cell_type": "code",
   "execution_count": null,
   "metadata": {},
   "outputs": [],
   "source": [
    "cassio.init(token=ASTRA_DB_TOKEN, database_id=ASTRA_DB_ID)"
   ]
  },
  {
   "cell_type": "code",
   "execution_count": null,
   "metadata": {},
   "outputs": [],
   "source": [
    "llm         = OpenAI(openai_api_key = OPENAI_KEY)\n",
    "embeding    = OpenAIEmbeddings(openai_api_key = OPENAI_KEY)"
   ]
  },
  {
   "cell_type": "markdown",
   "metadata": {},
   "source": [
    "### Langchain Vectorstore "
   ]
  },
  {
   "cell_type": "code",
   "execution_count": null,
   "metadata": {},
   "outputs": [],
   "source": [
    "astraVectorStore = Cassandra(\n",
    "    embedding = embeding,\n",
    "    table_name = \"demo\",\n",
    "    session = None,\n",
    "    keyspace = None\n",
    ")"
   ]
  },
  {
   "cell_type": "code",
   "execution_count": null,
   "metadata": {},
   "outputs": [],
   "source": [
    "from langchain.text_splitter import CharacterTextSplitter\n",
    "\n",
    "textSplitter = CharacterTextSplitter(\n",
    "    seperator = '\\n',\n",
    "    chunk_size = 800,\n",
    "    chunk_overlap = 200,\n",
    "    length_function = len\n",
    ")\n",
    "\n",
    "texts = textSplitter.split_text(text) "
   ]
  },
  {
   "cell_type": "code",
   "execution_count": null,
   "metadata": {},
   "outputs": [],
   "source": [
    "texts[:50]"
   ]
  },
  {
   "cell_type": "markdown",
   "metadata": {},
   "source": [
    "### Load the dataset in the vector-store"
   ]
  },
  {
   "cell_type": "code",
   "execution_count": null,
   "metadata": {},
   "outputs": [],
   "source": [
    "astraVectorStore.add_texts(texts[:50])\n",
    "print(\"Inserted %i headlines\" % len(texts[:50]))\n",
    "\n",
    "astraVectorStore = VectorStoreIndexWrapper(vectorstore = astraVectorStore)"
   ]
  },
  {
   "cell_type": "markdown",
   "metadata": {},
   "source": [
    "### QA Cycle"
   ]
  },
  {
   "cell_type": "code",
   "execution_count": null,
   "metadata": {},
   "outputs": [],
   "source": [
    "firstQuestion = True\n",
    "\n",
    "while True:\n",
    "    if firstQuestion:\n",
    "        query = input(\"\\nAsk me a question (or type 'exit' to exit): \").strip()\n",
    "    else:\n",
    "        query = input(\"\\nWhat else would you like to know? (or type 'exit' to exit): \").strip()\n",
    "        \n",
    "    if query.lower() == 'exit':\n",
    "        break\n",
    "    if query == '':\n",
    "        continue\n",
    "    \n",
    "    firstQuestion = False\n",
    "    answer = astraVectorStore.query(query, llm = llm).strip()\n",
    "    \n",
    "    print(\"\\nQ: \\\"%s\\\"\" % query)\n",
    "    print(\"\\nA: \\\"%s\\n\" % answer)\n",
    "    \n",
    "    print(\"\\nFirst Document By Relevance: \")\n",
    "    for doc, score in astraVectorStore.similarity_search_with_score(query, k = 4):\n",
    "        print(\"[%0.4f] \\\"%s ...\\\"\" % (score, doc.page_content[:84]))\n",
    "    "
   ]
  }
 ],
 "metadata": {
  "kernelspec": {
   "display_name": "pdf_venv",
   "language": "python",
   "name": "python3"
  },
  "language_info": {
   "codemirror_mode": {
    "name": "ipython",
    "version": 3
   },
   "file_extension": ".py",
   "mimetype": "text/x-python",
   "name": "python",
   "nbconvert_exporter": "python",
   "pygments_lexer": "ipython3",
   "version": "3.10.0"
  }
 },
 "nbformat": 4,
 "nbformat_minor": 2
}
